{
 "cells": [
  {
   "cell_type": "markdown",
   "id": "2ca893e3",
   "metadata": {},
   "source": [
    "Importing Data"
   ]
  },
  {
   "cell_type": "code",
   "execution_count": null,
   "id": "9c92c15c-7c19-464b-9254-1d21157f1d5d",
   "metadata": {},
   "outputs": [],
   "source": [
    "import pandas as pd\n",
    "\n",
    "# Load datasets\n",
    "aisles = pd.read_csv(r'D:\\Portfolio\\Projects\\Instacart\\data\\aisles.csv')\n",
    "departments = pd.read_csv(r'D:\\Portfolio\\Projects\\Instacart\\data\\departments.csv')\n",
    "order_products_prior = pd.read_csv(r'D:\\Portfolio\\Projects\\Instacart\\data\\order_products__prior.csv')\n",
    "order_products_train = pd.read_csv(r'D:\\Portfolio\\Projects\\Instacart\\data\\order_products__train.csv')\n",
    "orders = pd.read_csv(r'D:\\Portfolio\\Projects\\Instacart\\data\\orders.csv')\n",
    "products = pd.read_csv(r'D:\\Portfolio\\Projects\\Instacart\\data\\products.csv')\n",
    "\n",
    "# Display sample data\n",
    "print(aisles.head())\n",
    "print(departments.head())\n",
    "print(orders.head())\n",
    "print(products.head())"
   ]
  },
  {
   "cell_type": "markdown",
   "id": "e6caf176",
   "metadata": {},
   "source": [
    "Data Cleaning"
   ]
  },
  {
   "cell_type": "code",
   "execution_count": 11,
   "id": "1ff8ab2e",
   "metadata": {},
   "outputs": [
    {
     "name": "stdout",
     "output_type": "stream",
     "text": [
      "order_id                       0\n",
      "user_id                        0\n",
      "eval_set                       0\n",
      "order_number                   0\n",
      "order_dow                      0\n",
      "order_hour_of_day              0\n",
      "days_since_prior_order    206209\n",
      "dtype: int64\n",
      "order_id             0\n",
      "product_id           0\n",
      "add_to_cart_order    0\n",
      "reordered            0\n",
      "dtype: int64\n"
     ]
    }
   ],
   "source": [
    "# Check missing values\n",
    "print(orders.isnull().sum())\n",
    "print(order_products_prior.isnull().sum())\n",
    "\n",
    "# Drop rows with missing values if any\n",
    "orders.dropna(inplace=True)\n",
    "order_products_prior.dropna(inplace=True)\n",
    "\n",
    "# Remove duplicates\n",
    "orders.drop_duplicates(inplace=True)\n",
    "order_products_prior.drop_duplicates(inplace=True)"
   ]
  },
  {
   "cell_type": "markdown",
   "id": "875ca395",
   "metadata": {},
   "source": [
    "Merge Dataset"
   ]
  },
  {
   "cell_type": "code",
   "execution_count": 13,
   "id": "4a7a91e6",
   "metadata": {},
   "outputs": [],
   "source": [
    "# Merge datasets\n",
    "order_prior = pd.merge(order_products_prior, products, on='product_id', how='left')\n",
    "order_prior = pd.merge(order_prior, aisles, on='aisle_id', how='left')\n",
    "order_prior = pd.merge(order_prior, departments, on='department_id', how='left')\n",
    "order_prior = pd.merge(order_prior, orders, on='order_id', how='left')\n",
    "\n",
    "order_prior.to_csv('D:\\Portfolio\\Projects\\Instacart\\data\\order_prior_cleaned.csv', index=False)"
   ]
  }
 ],
 "metadata": {
  "kernelspec": {
   "display_name": "base",
   "language": "python",
   "name": "python3"
  },
  "language_info": {
   "codemirror_mode": {
    "name": "ipython",
    "version": 3
   },
   "file_extension": ".py",
   "mimetype": "text/x-python",
   "name": "python",
   "nbconvert_exporter": "python",
   "pygments_lexer": "ipython3",
   "version": "3.11.7"
  }
 },
 "nbformat": 4,
 "nbformat_minor": 5
}
